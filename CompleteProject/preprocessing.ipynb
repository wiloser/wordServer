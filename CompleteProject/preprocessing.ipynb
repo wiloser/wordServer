{
 "cells": [
  {
   "cell_type": "code",
   "id": "initial_id",
   "metadata": {
    "collapsed": true,
    "ExecuteTime": {
     "end_time": "2024-10-16T11:12:27.189750Z",
     "start_time": "2024-10-16T11:12:27.186084Z"
    }
   },
   "source": [
    "import cv2\n",
    "import numpy as np"
   ],
   "outputs": [],
   "execution_count": 21
  },
  {
   "metadata": {
    "ExecuteTime": {
     "end_time": "2024-10-17T00:51:03.297371Z",
     "start_time": "2024-10-17T00:51:03.294015Z"
    }
   },
   "cell_type": "code",
   "source": [
    "#进行Contour_extraction函数进行轮廓提取\n",
    "\n",
    "def Contour_extraction(img):\n",
    "\n",
    "    img = cv2.GaussianBlur(img, (3, 3), 3)\n",
    "    th = cv2.adaptiveThreshold(img, 250, cv2.ADAPTIVE_THRESH_GAUSSIAN_C,\n",
    "                                   cv2.THRESH_BINARY, 35, 11)\n",
    "    th = cv2.bitwise_not(th)\n",
    "    kernel = np.array([[0, 1, 1],\n",
    "                           [0, 1, 0],\n",
    "                           [1, 1, 0]], dtype='uint8')\n",
    "    th = cv2.morphologyEx(th, cv2.MORPH_CLOSE, kernel)\n",
    "    return th\n",
    "\n",
    "\n",
    "   template_path = r\"E:\\python files\\PycharmProjects\\CompleteProject\\4.png\"\n",
    "    #读取灰度图像\n",
    "    template = cv2.imread(template_path, cv2.IMREAD_GRAYSCALE)\n",
    "    # 显示归一化后的结果\n",
    "    cv2.imshow(\"模板字\", template )\n",
    "    cv2.waitKey(0)\n",
    "    cv2.destroyAllWindows()\n"
   ],
   "id": "86da32b4c490bbc2",
   "outputs": [
    {
     "ename": "IndentationError",
     "evalue": "unindent does not match any outer indentation level (<string>, line 16)",
     "output_type": "error",
     "traceback": [
      "\u001B[1;36m  File \u001B[1;32m<string>:16\u001B[1;36m\u001B[0m\n\u001B[1;33m    template_path = r\"E:\\python files\\PycharmProjects\\CompleteProject\\4.png\"\u001B[0m\n\u001B[1;37m                                                                            ^\u001B[0m\n\u001B[1;31mIndentationError\u001B[0m\u001B[1;31m:\u001B[0m unindent does not match any outer indentation level\n"
     ]
    }
   ],
   "execution_count": 2
  },
  {
   "metadata": {
    "ExecuteTime": {
     "end_time": "2024-10-16T11:12:27.208913Z",
     "start_time": "2024-10-16T11:12:27.200724Z"
    }
   },
   "cell_type": "code",
   "outputs": [],
   "execution_count": 22,
   "source": [
    "def calculate_black_pixels(image):\n",
    "    \"\"\" 计算图像中黑色像素的数量 \"\"\"\n",
    "    return np.sum(image == 0)\n",
    "\n",
    "def get_center_of_mass(image):\n",
    "    \"\"\" 计算图像的重心坐标 \"\"\"\n",
    "    black_pixels = np.argwhere(image == 0)\n",
    "    if len(black_pixels) == 0:\n",
    "        return image.shape[1] // 2, image.shape[0] // 2  # 返回图像中心\n",
    "    center_y, center_x = np.mean(black_pixels, axis=0).astype(int)\n",
    "    return center_x, center_y\n",
    "\n",
    "def resize_and_center_image(template, student, output_size=(400, 400)):\n",
    "    # Step 1: 计算两个图像中的黑色像素数量\n",
    "    S_T = calculate_black_pixels(template)\n",
    "    S_C = calculate_black_pixels(student)\n",
    "    \n",
    "    # Step 2: 提取模板和临摹字的ROI区域\n",
    "    x_T, y_T, w_T, h_T = cv2.boundingRect(template)\n",
    "    template_roi = template[y_T:y_T+h_T, x_T:x_T+w_T]\n",
    "    \n",
    "    x_C, y_C, w_C, h_C = cv2.boundingRect(student)\n",
    "    student_roi = student[y_C:y_C+h_C, x_C:x_C+w_C]\n",
    "    \n",
    "    # Step 3: 计算缩放因子并调整临摹字的大小\n",
    "    scaling_factor = np.sqrt(S_T / S_C)\n",
    "    new_width = int(w_C * scaling_factor)\n",
    "    new_height = int(h_C * scaling_factor)\n",
    "    resized_student = cv2.resize(student_roi, (new_width, new_height))\n",
    "    \n",
    "    # Step 4: 创建400x400的空白背景\n",
    "    blank_template = np.ones(output_size, dtype=np.uint8) * 255  # 模板字空白图\n",
    "    blank_student = np.ones(output_size, dtype=np.uint8) * 255   # 临摹字空白图\n",
    "    \n",
    "    # Step 5: 获取两个图像的重心\n",
    "    template_center_x, template_center_y = get_center_of_mass(template_roi)\n",
    "    student_center_x, student_center_y = get_center_of_mass(resized_student)\n",
    "    \n",
    "    # Step 6: 将模板字放到空白图的中心\n",
    "    start_x_T = output_size[1] // 2 - w_T // 2\n",
    "    start_y_T = output_size[0] // 2 - h_T // 2\n",
    "    blank_template[start_y_T:start_y_T+h_T, start_x_T:start_x_T+w_T] = template_roi\n",
    "    \n",
    "    # Step 7: 将调整后的临摹字放到空白图的中心\n",
    "    start_x_C = output_size[1] // 2 - resized_student.shape[1] // 2\n",
    "    start_y_C = output_size[0] // 2 - resized_student.shape[0] // 2\n",
    "    blank_student[start_y_C:start_y_C+resized_student.shape[0], start_x_C:start_x_C+resized_student.shape[1]] = resized_student\n",
    "    \n",
    "    return blank_template, blank_student"
   ],
   "id": "70f9e7e7202e72c4"
  },
  {
   "metadata": {
    "ExecuteTime": {
     "end_time": "2024-10-16T11:12:31.837747Z",
     "start_time": "2024-10-16T11:12:27.216725Z"
    }
   },
   "cell_type": "code",
   "source": [
    "# 主函数用于加载图像并处理\n",
    "def main():\n",
    "    template_path = r\"E:\\python files\\PycharmProjects\\CompleteProject\\4.png\"\n",
    "    student_path = r\"E:\\python files\\PycharmProjects\\CompleteProject\\18.png\"\n",
    "    \n",
    "    # 读取灰度图像\n",
    "    template = cv2.imread(template_path, cv2.IMREAD_GRAYSCALE)\n",
    "    student = cv2.imread(student_path, cv2.IMREAD_GRAYSCALE)\n",
    "    \n",
    "    if template is None or student is None:\n",
    "        print(\"Error loading images.\")\n",
    "        return\n",
    "    \n",
    "    # 调整临摹字大小并将它们都显示在400x400的空白图中\n",
    "    aligned_template, aligned_student = resize_and_center_image(template, student)\n",
    "    \n",
    "    # 显示归一化后的结果\n",
    "    cv2.imshow(\"模板字\", aligned_template)\n",
    "    cv2.imshow(\"临摹字\", aligned_student)\n",
    "    cv2.waitKey(0)\n",
    "    cv2.destroyAllWindows()\n",
    "\n",
    "if __name__ == \"__main__\":\n",
    "    main()"
   ],
   "id": "77c19b3783607917",
   "outputs": [],
   "execution_count": 23
  }
 ],
 "metadata": {
  "kernelspec": {
   "display_name": "Python 3",
   "language": "python",
   "name": "python3"
  },
  "language_info": {
   "codemirror_mode": {
    "name": "ipython",
    "version": 2
   },
   "file_extension": ".py",
   "mimetype": "text/x-python",
   "name": "python",
   "nbconvert_exporter": "python",
   "pygments_lexer": "ipython2",
   "version": "2.7.6"
  }
 },
 "nbformat": 4,
 "nbformat_minor": 5
}
