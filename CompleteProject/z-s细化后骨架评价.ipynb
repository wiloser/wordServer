{
 "cells": [
  {
   "cell_type": "code",
   "id": "initial_id",
   "metadata": {
    "collapsed": true,
    "ExecuteTime": {
     "end_time": "2024-10-16T10:56:49.753471Z",
     "start_time": "2024-10-16T10:56:49.747937Z"
    }
   },
   "source": [
    "import numpy as np\n",
    "import cv2\n"
   ],
   "outputs": [],
   "execution_count": 15
  },
  {
   "metadata": {
    "ExecuteTime": {
     "end_time": "2024-10-16T10:56:49.779663Z",
     "start_time": "2024-10-16T10:56:49.772932Z"
    }
   },
   "cell_type": "code",
   "source": [
    "# 这里的“点”是指图像中骨架的坐标位置，而不是单个像素的具体值。\n",
    "# 计算两个点之间的欧几里得距离\n",
    "def euclidean_distance(p1, p2):\n",
    "    return np.sqrt((p1[0] - p2[0]) ** 2 + (p1[1] - p2[1]) ** 2)\n",
    "\n",
    "\n",
    "# 计算一个点到一组骨架点的最小距离\n",
    "def point_to_skeleton_distance(point, skeleton_points):\n",
    "    return min(euclidean_distance(point, sk_point) for sk_point in skeleton_points)\n",
    "\n",
    "\n",
    "# 计算两个骨架图像之间的总距离\n",
    "def calculate_total_distance(skeleton1, skeleton2):\n",
    "    skeleton1_points = np.argwhere(skeleton1 == 255)  # 骨架为白色\n",
    "    skeleton2_points = np.argwhere(skeleton2 == 255)  # 骨架为白色\n",
    "    total_distance = sum(point_to_skeleton_distance(point, skeleton2_points) for point in skeleton1_points)\n",
    "    return total_distance"
   ],
   "id": "28b942118d249791",
   "outputs": [],
   "execution_count": 16
  },
  {
   "metadata": {
    "ExecuteTime": {
     "end_time": "2024-10-16T10:56:51.127884Z",
     "start_time": "2024-10-16T10:56:49.790137Z"
    }
   },
   "cell_type": "code",
   "source": [
    "# 主函数，用于计算两个骨架图像的相似度\n",
    "def main():\n",
    "    image1_path = r\"E:\\python files\\PycharmProjects\\CompleteProject\\thinned_image.png\"\n",
    "    image2_path = r\"E:\\python files\\PycharmProjects\\CompleteProject\\thinned_image1.png\"\n",
    "\n",
    "    # 读取两个骨架图像\n",
    "    image1 = cv2.imread(image1_path, cv2.IMREAD_GRAYSCALE)\n",
    "    image2 = cv2.imread(image2_path, cv2.IMREAD_GRAYSCALE)\n",
    "\n",
    "    if image1 is None or image2 is None:\n",
    "        print(\"Error: One or both images failed to load.\")\n",
    "        return\n",
    "\n",
    "        # 二值化处理\n",
    "    _, binary_image1 = cv2.threshold(image1, 127, 255, cv2.THRESH_BINARY)\n",
    "    _, binary_image2 = cv2.threshold(image2, 127, 255, cv2.THRESH_BINARY)\n",
    "\n",
    "    # # 显示二值化后的图像\n",
    "    # plt.figure(figsize=(10, 5))\n",
    "    # plt.subplot(1, 2, 1)\n",
    "    # plt.title('Binary Image 1')\n",
    "    # plt.imshow(binary_image1, cmap='gray')\n",
    "    # plt.axis('off')\n",
    "    #\n",
    "    # plt.subplot(1, 2, 2)\n",
    "    # plt.title('Binary Image 2')\n",
    "    # plt.imshow(binary_image2, cmap='gray')\n",
    "    # plt.axis('off')\n",
    "    #\n",
    "    # plt.show()\n",
    "\n",
    "    # 确保图像大小相同\n",
    "    if binary_image1.shape != binary_image2.shape:\n",
    "        print(\"Error: Images have different dimensions.\")\n",
    "        return\n",
    "\n",
    "        # 计算骨架相似度\n",
    "    skeleton_similarity_score = calculate_total_distance(binary_image1, binary_image2)\n",
    "    print(\"Skeleton Similarity Score:\", skeleton_similarity_score)\n",
    "\n",
    "\n",
    "# 执行主函数\n",
    "if __name__ == \"__main__\":\n",
    "    main()"
   ],
   "id": "4bcaaef1e39093a9",
   "outputs": [
    {
     "name": "stdout",
     "output_type": "stream",
     "text": [
      "Skeleton Similarity Score: 13825.957621930487\n"
     ]
    }
   ],
   "execution_count": 17
  }
 ],
 "metadata": {
  "kernelspec": {
   "display_name": "Python 3",
   "language": "python",
   "name": "python3"
  },
  "language_info": {
   "codemirror_mode": {
    "name": "ipython",
    "version": 2
   },
   "file_extension": ".py",
   "mimetype": "text/x-python",
   "name": "python",
   "nbconvert_exporter": "python",
   "pygments_lexer": "ipython2",
   "version": "2.7.6"
  }
 },
 "nbformat": 4,
 "nbformat_minor": 5
}
