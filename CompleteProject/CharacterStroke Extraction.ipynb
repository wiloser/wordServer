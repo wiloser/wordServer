{
 "cells": [
  {
   "metadata": {
    "ExecuteTime": {
     "end_time": "2024-10-18T07:41:16.183094Z",
     "start_time": "2024-10-18T07:41:16.172369Z"
    }
   },
   "cell_type": "code",
   "source": [
    "import os\n",
    "import numpy as np\n",
    "import cv2\n"
   ],
   "id": "10b5305bcbd266f6",
   "outputs": [],
   "execution_count": 17
  },
  {
   "metadata": {
    "collapsed": true,
    "ExecuteTime": {
     "end_time": "2024-10-18T07:41:16.210633Z",
     "start_time": "2024-10-18T07:41:16.188130Z"
    }
   },
   "cell_type": "code",
   "source": [
    "class Pen:\n",
    "    def __init__(self):\n",
    "        self.save_txt_dir = \"./bihua_data/\"\n",
    "        self.index = 0\n",
    "        self.object_name = [\"王\"]\n",
    "        self.object_type = \".txt\"\n",
    "        self.mode = \"w\"\n",
    "        self.width = 256\n",
    "        self.height = 256\n",
    "        self.channles = 1\n",
    "        self.step = 0\n",
    "        self.flag = True\n",
    "        # while os.path.isfile(self.save_txt_dir + self.object_name[self.index] + self.object_type):\n",
    "        #     print(\"[%s]字已存在，请删除后再修改\" % self.object_name[self.index])\n",
    "        #     self.index += 1\n",
    "        #     if self.index >= len(self.object_name):\n",
    "        #         self.flag = False\n",
    "        #         break\n",
    "        # if self.flag:\n",
    "        #     self.f = open(self.save_txt_dir + self.object_name[self.index] + self.object_type, \"w\")\n",
    "        #     add_point = '{},{}\\n'.format(-1, -1)\n",
    "        #     self.f.write(add_point)\n",
    "        # else:\n",
    "        #     print(\"全部字体已存在，请进行删除后修改\")\n",
    "        # Always overwrite the existing file\n",
    "        self.f = open(self.save_txt_dir + self.object_name[self.index] + self.object_type, \"w\")\n",
    "        add_point = '{},{}\\n'.format(-1, -1)\n",
    "        self.f.write(add_point)\n",
    "        \n",
    "        \n",
    "    def write(self, event, x, y, flags, parm):\n",
    "        if event == cv2.EVENT_MOUSEMOVE and flags == cv2.EVENT_FLAG_LBUTTON:\n",
    "            cv2.circle(img, (x, y), 1, (0), 5, cv2.LINE_AA, 0)\n",
    "            self.step += 1\n",
    "            if self.step == 1:\n",
    "                add_point = '{},{}\\n'.format(x, y)\n",
    "                self.f.write(add_point)\n",
    "                self.step = 0\n",
    "        if event == cv2.EVENT_LBUTTONUP:\n",
    "            add_point = '{},{}\\n'.format(-1, -1)\n",
    "            self.f.write(add_point)\n",
    "            print('下一笔')\n",
    "\n",
    "    def init_write(self, img_init):\n",
    "        for i in range(self.channles):\n",
    "            img_init[:, :, i] = 255\n",
    "        # 绘制米字格\n",
    "        color = (200,)  # 浅红色\n",
    "        thickness = 1\n",
    "        cv2.line(img_init, (0, 0), (self.width, self.height), color, thickness)\n",
    "        cv2.line(img_init, (self.width, 0), (0, self.height), color, thickness)\n",
    "        cv2.line(img_init, (self.width // 2, 0), (self.width // 2, self.height), color, thickness)\n",
    "        cv2.line(img_init, (0, self.height // 2), (self.width, self.height // 2), color, thickness)\n",
    "\n",
    "    def next_write(self):\n",
    "        self.f = open(self.save_txt_dir + self.object_name[self.index] + self.object_type, \"w\")\n"
   ],
   "id": "initial_id",
   "outputs": [],
   "execution_count": 18
  },
  {
   "metadata": {
    "ExecuteTime": {
     "end_time": "2024-10-18T07:41:30.610775Z",
     "start_time": "2024-10-18T07:41:16.224736Z"
    }
   },
   "cell_type": "code",
   "source": [
    "pen_main = Pen()\n",
    "if pen_main.flag:\n",
    "    img = np.zeros((pen_main.width, pen_main.height, pen_main.channles), np.uint8)\n",
    "    pen_main.init_write(img)\n",
    "    print(\"第%s个字[%s]\" % (pen_main.index + 1, pen_main.object_name[pen_main.index]))\n",
    "    cv2.namedWindow(\"block\")\n",
    "    cv2.setMouseCallback(\"block\", pen_main.write)\n",
    "    while True:\n",
    "        cv2.imshow(\"block\", img)\n",
    "        k = cv2.waitKey(1) & 0xFF\n",
    "        if k == ord('q'):\n",
    "            pen_main.f.close()\n",
    "            break\n",
    "        if k == ord('c'):\n",
    "            pen_main.init_write(img)\n",
    "            pen_main.f.close()\n",
    "        if k == ord('n'):\n",
    "            pen_main.f.close()\n",
    "            pen_main.init_write(img)\n",
    "            if pen_main.index < len(pen_main.object_name) - 1:\n",
    "                pen_main.index += 1\n",
    "                pen_main.next_write()\n",
    "                print(\"下一个字[%s]\" % pen_main.object_name[pen_main.index])\n",
    "            else:\n",
    "                print(\"没字了\")\n",
    "                break\n",
    "    cv2.destroyAllWindows()\n"
   ],
   "id": "24c679e09a1bc95e",
   "outputs": [
    {
     "name": "stdout",
     "output_type": "stream",
     "text": [
      "第1个字[王]\n",
      "下一笔\n",
      "下一笔\n",
      "下一笔\n",
      "下一笔\n",
      "没字了\n"
     ]
    }
   ],
   "execution_count": 19
  }
 ],
 "metadata": {
  "kernelspec": {
   "display_name": "Python 3",
   "language": "python",
   "name": "python3"
  },
  "language_info": {
   "codemirror_mode": {
    "name": "ipython",
    "version": 2
   },
   "file_extension": ".py",
   "mimetype": "text/x-python",
   "name": "python",
   "nbconvert_exporter": "python",
   "pygments_lexer": "ipython2",
   "version": "2.7.6"
  }
 },
 "nbformat": 4,
 "nbformat_minor": 5
}
